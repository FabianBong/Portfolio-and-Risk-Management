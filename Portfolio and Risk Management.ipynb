{
 "cells": [
  {
   "cell_type": "markdown",
   "id": "01959a9e",
   "metadata": {},
   "source": [
    "## Portfolio and Risk Management\n",
    "\n",
    "This project is used as a tool to practice and apply methods I have learned about Portfolio and Risk Management. This project will be expanded on a rolling basis, mostly limited by how much time I have after school, etc... \n",
    "First we need to get some data."
   ]
  },
  {
   "cell_type": "code",
   "execution_count": 1,
   "id": "33ccca40",
   "metadata": {},
   "outputs": [],
   "source": [
    "## Imports\n",
    "\n",
    "import matplotlib as plt\n",
    "import pandas as pd\n",
    "import numpy as np\n",
    "import time\n",
    "from datetime import datetime\n",
    "import yfinance as yf"
   ]
  },
  {
   "cell_type": "code",
   "execution_count": 2,
   "id": "ae725c57",
   "metadata": {},
   "outputs": [],
   "source": [
    "## Tickers part of the portfolio\n",
    "tickers = ['TSLA', 'GME', 'AMC' ,'MSFT', 'GOOG']\n",
    "\n",
    "portfolio = pd.read_csv('Data/Portfolio.csv', index_col = 0)\n",
    "\n",
    "portfolio.columns = tickers"
   ]
  },
  {
   "cell_type": "markdown",
   "id": "050c5793",
   "metadata": {},
   "source": [
    "The next step would be to check for completness of the data and familiarize yourself with the structure of the data."
   ]
  },
  {
   "cell_type": "code",
   "execution_count": 3,
   "id": "ce3e599c",
   "metadata": {},
   "outputs": [
    {
     "data": {
      "text/html": [
       "<div>\n",
       "<style scoped>\n",
       "    .dataframe tbody tr th:only-of-type {\n",
       "        vertical-align: middle;\n",
       "    }\n",
       "\n",
       "    .dataframe tbody tr th {\n",
       "        vertical-align: top;\n",
       "    }\n",
       "\n",
       "    .dataframe thead th {\n",
       "        text-align: right;\n",
       "    }\n",
       "</style>\n",
       "<table border=\"1\" class=\"dataframe\">\n",
       "  <thead>\n",
       "    <tr style=\"text-align: right;\">\n",
       "      <th></th>\n",
       "      <th>TSLA</th>\n",
       "      <th>GME</th>\n",
       "      <th>AMC</th>\n",
       "      <th>MSFT</th>\n",
       "      <th>GOOG</th>\n",
       "    </tr>\n",
       "    <tr>\n",
       "      <th>Date</th>\n",
       "      <th></th>\n",
       "      <th></th>\n",
       "      <th></th>\n",
       "      <th></th>\n",
       "      <th></th>\n",
       "    </tr>\n",
       "  </thead>\n",
       "  <tbody>\n",
       "    <tr>\n",
       "      <th>2016-01-04</th>\n",
       "      <td>44.681999</td>\n",
       "      <td>21.848803</td>\n",
       "      <td>17.572334</td>\n",
       "      <td>49.591064</td>\n",
       "      <td>741.840027</td>\n",
       "    </tr>\n",
       "    <tr>\n",
       "      <th>2016-01-05</th>\n",
       "      <td>44.686001</td>\n",
       "      <td>22.203815</td>\n",
       "      <td>17.777107</td>\n",
       "      <td>49.817295</td>\n",
       "      <td>742.580017</td>\n",
       "    </tr>\n",
       "    <tr>\n",
       "      <th>2016-01-06</th>\n",
       "      <td>43.807999</td>\n",
       "      <td>21.895105</td>\n",
       "      <td>17.595087</td>\n",
       "      <td>48.912342</td>\n",
       "      <td>743.619995</td>\n",
       "    </tr>\n",
       "    <tr>\n",
       "      <th>2016-01-07</th>\n",
       "      <td>43.130001</td>\n",
       "      <td>21.956850</td>\n",
       "      <td>17.155214</td>\n",
       "      <td>47.211044</td>\n",
       "      <td>726.390015</td>\n",
       "    </tr>\n",
       "    <tr>\n",
       "      <th>2016-01-08</th>\n",
       "      <td>42.200001</td>\n",
       "      <td>21.895105</td>\n",
       "      <td>16.973190</td>\n",
       "      <td>47.355843</td>\n",
       "      <td>714.469971</td>\n",
       "    </tr>\n",
       "  </tbody>\n",
       "</table>\n",
       "</div>"
      ],
      "text/plain": [
       "                 TSLA        GME        AMC       MSFT        GOOG\n",
       "Date                                                              \n",
       "2016-01-04  44.681999  21.848803  17.572334  49.591064  741.840027\n",
       "2016-01-05  44.686001  22.203815  17.777107  49.817295  742.580017\n",
       "2016-01-06  43.807999  21.895105  17.595087  48.912342  743.619995\n",
       "2016-01-07  43.130001  21.956850  17.155214  47.211044  726.390015\n",
       "2016-01-08  42.200001  21.895105  16.973190  47.355843  714.469971"
      ]
     },
     "execution_count": 3,
     "metadata": {},
     "output_type": "execute_result"
    }
   ],
   "source": [
    "portfolio.head()"
   ]
  },
  {
   "cell_type": "code",
   "execution_count": 4,
   "id": "acb87413",
   "metadata": {},
   "outputs": [
    {
     "data": {
      "text/html": [
       "<div>\n",
       "<style scoped>\n",
       "    .dataframe tbody tr th:only-of-type {\n",
       "        vertical-align: middle;\n",
       "    }\n",
       "\n",
       "    .dataframe tbody tr th {\n",
       "        vertical-align: top;\n",
       "    }\n",
       "\n",
       "    .dataframe thead th {\n",
       "        text-align: right;\n",
       "    }\n",
       "</style>\n",
       "<table border=\"1\" class=\"dataframe\">\n",
       "  <thead>\n",
       "    <tr style=\"text-align: right;\">\n",
       "      <th></th>\n",
       "      <th>TSLA</th>\n",
       "      <th>GME</th>\n",
       "      <th>AMC</th>\n",
       "      <th>MSFT</th>\n",
       "      <th>GOOG</th>\n",
       "    </tr>\n",
       "  </thead>\n",
       "  <tbody>\n",
       "    <tr>\n",
       "      <th>count</th>\n",
       "      <td>1521.000000</td>\n",
       "      <td>1521.000000</td>\n",
       "      <td>1521.000000</td>\n",
       "      <td>1521.000000</td>\n",
       "      <td>1521.000000</td>\n",
       "    </tr>\n",
       "    <tr>\n",
       "      <th>mean</th>\n",
       "      <td>221.454803</td>\n",
       "      <td>40.280898</td>\n",
       "      <td>16.201018</td>\n",
       "      <td>135.963729</td>\n",
       "      <td>1336.691101</td>\n",
       "    </tr>\n",
       "    <tr>\n",
       "      <th>std</th>\n",
       "      <td>291.042571</td>\n",
       "      <td>63.279808</td>\n",
       "      <td>10.567634</td>\n",
       "      <td>80.806940</td>\n",
       "      <td>612.532663</td>\n",
       "    </tr>\n",
       "    <tr>\n",
       "      <th>min</th>\n",
       "      <td>28.733999</td>\n",
       "      <td>2.800000</td>\n",
       "      <td>1.980000</td>\n",
       "      <td>44.449951</td>\n",
       "      <td>668.260010</td>\n",
       "    </tr>\n",
       "    <tr>\n",
       "      <th>25%</th>\n",
       "      <td>50.310001</td>\n",
       "      <td>10.100000</td>\n",
       "      <td>9.489752</td>\n",
       "      <td>67.510132</td>\n",
       "      <td>930.390015</td>\n",
       "    </tr>\n",
       "    <tr>\n",
       "      <th>50%</th>\n",
       "      <td>65.820000</td>\n",
       "      <td>15.945121</td>\n",
       "      <td>13.260000</td>\n",
       "      <td>107.105705</td>\n",
       "      <td>1140.989990</td>\n",
       "    </tr>\n",
       "    <tr>\n",
       "      <th>75%</th>\n",
       "      <td>286.152008</td>\n",
       "      <td>22.180662</td>\n",
       "      <td>22.130543</td>\n",
       "      <td>200.470337</td>\n",
       "      <td>1485.930054</td>\n",
       "    </tr>\n",
       "    <tr>\n",
       "      <th>max</th>\n",
       "      <td>1229.910034</td>\n",
       "      <td>347.510010</td>\n",
       "      <td>62.549999</td>\n",
       "      <td>343.109985</td>\n",
       "      <td>3014.179932</td>\n",
       "    </tr>\n",
       "  </tbody>\n",
       "</table>\n",
       "</div>"
      ],
      "text/plain": [
       "              TSLA          GME          AMC         MSFT         GOOG\n",
       "count  1521.000000  1521.000000  1521.000000  1521.000000  1521.000000\n",
       "mean    221.454803    40.280898    16.201018   135.963729  1336.691101\n",
       "std     291.042571    63.279808    10.567634    80.806940   612.532663\n",
       "min      28.733999     2.800000     1.980000    44.449951   668.260010\n",
       "25%      50.310001    10.100000     9.489752    67.510132   930.390015\n",
       "50%      65.820000    15.945121    13.260000   107.105705  1140.989990\n",
       "75%     286.152008    22.180662    22.130543   200.470337  1485.930054\n",
       "max    1229.910034   347.510010    62.549999   343.109985  3014.179932"
      ]
     },
     "execution_count": 4,
     "metadata": {},
     "output_type": "execute_result"
    }
   ],
   "source": [
    "portfolio.describe()"
   ]
  },
  {
   "cell_type": "code",
   "execution_count": 5,
   "id": "4d83ddc5",
   "metadata": {},
   "outputs": [
    {
     "data": {
      "text/plain": [
       "False"
      ]
     },
     "execution_count": 5,
     "metadata": {},
     "output_type": "execute_result"
    }
   ],
   "source": [
    "portfolio.isnull().values.any()"
   ]
  },
  {
   "cell_type": "markdown",
   "id": "52c98a21",
   "metadata": {},
   "source": [
    "It also seems to be helpful to plot the plot prices as a function of time. However, since some of the assets have largely different prices the scale might be affected."
   ]
  },
  {
   "cell_type": "code",
   "execution_count": 6,
   "id": "0dfcf6c9",
   "metadata": {},
   "outputs": [],
   "source": [
    "import plotly.express as px\n",
    "import plotly.io as pio\n",
    "import plotly.graph_objects as go\n",
    "\n",
    "pio.renderers.default = \"svg\"\n",
    "\n",
    "fig = px.line(portfolio)\n",
    "\n",
    "fig.update_layout(legend_title = \"Asset\", title = \"Asset Prices over Time\")\n",
    "fig.update_xaxes(title = \"Date\")\n",
    "fig.update_yaxes(title = \"Stock Prices (in USD)\")\n",
    "fig.update_layout(width = 950, height = 700, title_x = 0.5, template = \"ggplot2\")\n",
    "\n",
    "fig.write_image(\"Images/Asset_Prices_Over_Time.png\")"
   ]
  },
  {
   "cell_type": "markdown",
   "id": "9f2e0fec",
   "metadata": {},
   "source": [
    "![title](Images/Asset_Prices_Over_Time.png)"
   ]
  },
  {
   "cell_type": "markdown",
   "id": "29da6dd9",
   "metadata": {},
   "source": [
    "As expected, the scale suffers. Let's plot the cummulative returns. This should increase legibility of the plot.\n"
   ]
  },
  {
   "cell_type": "code",
   "execution_count": 7,
   "id": "c6d58d57",
   "metadata": {},
   "outputs": [
    {
     "data": {
      "text/html": [
       "<div>\n",
       "<style scoped>\n",
       "    .dataframe tbody tr th:only-of-type {\n",
       "        vertical-align: middle;\n",
       "    }\n",
       "\n",
       "    .dataframe tbody tr th {\n",
       "        vertical-align: top;\n",
       "    }\n",
       "\n",
       "    .dataframe thead th {\n",
       "        text-align: right;\n",
       "    }\n",
       "</style>\n",
       "<table border=\"1\" class=\"dataframe\">\n",
       "  <thead>\n",
       "    <tr style=\"text-align: right;\">\n",
       "      <th></th>\n",
       "      <th>TSLA</th>\n",
       "      <th>GME</th>\n",
       "      <th>AMC</th>\n",
       "      <th>MSFT</th>\n",
       "      <th>GOOG</th>\n",
       "    </tr>\n",
       "    <tr>\n",
       "      <th>Date</th>\n",
       "      <th></th>\n",
       "      <th></th>\n",
       "      <th></th>\n",
       "      <th></th>\n",
       "      <th></th>\n",
       "    </tr>\n",
       "  </thead>\n",
       "  <tbody>\n",
       "    <tr>\n",
       "      <th>2016-01-05</th>\n",
       "      <td>0.000090</td>\n",
       "      <td>0.016249</td>\n",
       "      <td>0.011653</td>\n",
       "      <td>0.004562</td>\n",
       "      <td>0.000998</td>\n",
       "    </tr>\n",
       "    <tr>\n",
       "      <th>2016-01-06</th>\n",
       "      <td>-0.019648</td>\n",
       "      <td>-0.013903</td>\n",
       "      <td>-0.010239</td>\n",
       "      <td>-0.018165</td>\n",
       "      <td>0.001400</td>\n",
       "    </tr>\n",
       "    <tr>\n",
       "      <th>2016-01-07</th>\n",
       "      <td>-0.015477</td>\n",
       "      <td>0.002820</td>\n",
       "      <td>-0.025000</td>\n",
       "      <td>-0.034783</td>\n",
       "      <td>-0.023170</td>\n",
       "    </tr>\n",
       "    <tr>\n",
       "      <th>2016-01-08</th>\n",
       "      <td>-0.021563</td>\n",
       "      <td>-0.002812</td>\n",
       "      <td>-0.010610</td>\n",
       "      <td>0.003067</td>\n",
       "      <td>-0.016410</td>\n",
       "    </tr>\n",
       "    <tr>\n",
       "      <th>2016-01-11</th>\n",
       "      <td>-0.014929</td>\n",
       "      <td>0.035601</td>\n",
       "      <td>-0.004021</td>\n",
       "      <td>-0.000573</td>\n",
       "      <td>0.002184</td>\n",
       "    </tr>\n",
       "  </tbody>\n",
       "</table>\n",
       "</div>"
      ],
      "text/plain": [
       "                TSLA       GME       AMC      MSFT      GOOG\n",
       "Date                                                        \n",
       "2016-01-05  0.000090  0.016249  0.011653  0.004562  0.000998\n",
       "2016-01-06 -0.019648 -0.013903 -0.010239 -0.018165  0.001400\n",
       "2016-01-07 -0.015477  0.002820 -0.025000 -0.034783 -0.023170\n",
       "2016-01-08 -0.021563 -0.002812 -0.010610  0.003067 -0.016410\n",
       "2016-01-11 -0.014929  0.035601 -0.004021 -0.000573  0.002184"
      ]
     },
     "execution_count": 7,
     "metadata": {},
     "output_type": "execute_result"
    }
   ],
   "source": [
    "asset_returns = portfolio.pct_change().dropna()\n",
    "\n",
    "asset_returns.head()"
   ]
  },
  {
   "cell_type": "code",
   "execution_count": 8,
   "id": "7dec08c6",
   "metadata": {},
   "outputs": [
    {
     "data": {
      "text/html": [
       "<div>\n",
       "<style scoped>\n",
       "    .dataframe tbody tr th:only-of-type {\n",
       "        vertical-align: middle;\n",
       "    }\n",
       "\n",
       "    .dataframe tbody tr th {\n",
       "        vertical-align: top;\n",
       "    }\n",
       "\n",
       "    .dataframe thead th {\n",
       "        text-align: right;\n",
       "    }\n",
       "</style>\n",
       "<table border=\"1\" class=\"dataframe\">\n",
       "  <thead>\n",
       "    <tr style=\"text-align: right;\">\n",
       "      <th></th>\n",
       "      <th>TSLA</th>\n",
       "      <th>GME</th>\n",
       "      <th>AMC</th>\n",
       "      <th>MSFT</th>\n",
       "      <th>GOOG</th>\n",
       "    </tr>\n",
       "    <tr>\n",
       "      <th>Date</th>\n",
       "      <th></th>\n",
       "      <th></th>\n",
       "      <th></th>\n",
       "      <th></th>\n",
       "      <th></th>\n",
       "    </tr>\n",
       "  </thead>\n",
       "  <tbody>\n",
       "    <tr>\n",
       "      <th>2016-01-05</th>\n",
       "      <td>0.008956</td>\n",
       "      <td>1.624862</td>\n",
       "      <td>1.165314</td>\n",
       "      <td>0.456192</td>\n",
       "      <td>0.099751</td>\n",
       "    </tr>\n",
       "    <tr>\n",
       "      <th>2016-01-06</th>\n",
       "      <td>-1.956046</td>\n",
       "      <td>0.211924</td>\n",
       "      <td>0.129481</td>\n",
       "      <td>-1.368638</td>\n",
       "      <td>0.239940</td>\n",
       "    </tr>\n",
       "    <tr>\n",
       "      <th>2016-01-07</th>\n",
       "      <td>-3.473430</td>\n",
       "      <td>0.494524</td>\n",
       "      <td>-2.373731</td>\n",
       "      <td>-4.799292</td>\n",
       "      <td>-2.082661</td>\n",
       "    </tr>\n",
       "    <tr>\n",
       "      <th>2016-01-08</th>\n",
       "      <td>-5.554806</td>\n",
       "      <td>0.211924</td>\n",
       "      <td>-3.409587</td>\n",
       "      <td>-4.507308</td>\n",
       "      <td>-3.689482</td>\n",
       "    </tr>\n",
       "    <tr>\n",
       "      <th>2016-01-11</th>\n",
       "      <td>-6.964772</td>\n",
       "      <td>3.779568</td>\n",
       "      <td>-3.798007</td>\n",
       "      <td>-4.562054</td>\n",
       "      <td>-3.479186</td>\n",
       "    </tr>\n",
       "  </tbody>\n",
       "</table>\n",
       "</div>"
      ],
      "text/plain": [
       "                TSLA       GME       AMC      MSFT      GOOG\n",
       "Date                                                        \n",
       "2016-01-05  0.008956  1.624862  1.165314  0.456192  0.099751\n",
       "2016-01-06 -1.956046  0.211924  0.129481 -1.368638  0.239940\n",
       "2016-01-07 -3.473430  0.494524 -2.373731 -4.799292 -2.082661\n",
       "2016-01-08 -5.554806  0.211924 -3.409587 -4.507308 -3.689482\n",
       "2016-01-11 -6.964772  3.779568 -3.798007 -4.562054 -3.479186"
      ]
     },
     "execution_count": 8,
     "metadata": {},
     "output_type": "execute_result"
    }
   ],
   "source": [
    "asset_returns_cum = ((1+asset_returns).cumprod()-1) * 100\n",
    "\n",
    "asset_returns_cum.head()"
   ]
  },
  {
   "cell_type": "code",
   "execution_count": 9,
   "id": "88f71b21",
   "metadata": {},
   "outputs": [],
   "source": [
    "fig = px.line(asset_returns_cum)\n",
    "\n",
    "fig.update_layout(legend_title = \"Asset\", title = \"Cummulative Return over Time\")\n",
    "fig.update_xaxes(title = \"Date\")\n",
    "fig.update_yaxes(title = \"Cummulative Return (in %)\")\n",
    "fig.update_layout(width = 950, height = 700, title_x = 0.5, template = \"ggplot2\")\n",
    "\n",
    "fig.write_image(\"Images/Cum_Return_Over_Time.png\")"
   ]
  },
  {
   "cell_type": "markdown",
   "id": "b23076a7",
   "metadata": {},
   "source": [
    "![title](Images/Cum_Return_Over_Time.png)"
   ]
  },
  {
   "cell_type": "markdown",
   "id": "0bbfaf0a",
   "metadata": {},
   "source": [
    "This plot helps a little more. From the first plot we would expect GOOG to be performing the best. However, this plot clearly shows that TSLA is blowing GOOG out of the water. As is GME, which seemed to be underperforming significantly when compared to GOOG. Let's take a closer look at the historical data of TSLA."
   ]
  },
  {
   "cell_type": "markdown",
   "id": "73a3de31",
   "metadata": {},
   "source": [
    "## TSLA Risk Analysis"
   ]
  },
  {
   "cell_type": "code",
   "execution_count": 10,
   "id": "ea4f3ead",
   "metadata": {},
   "outputs": [],
   "source": [
    "tsla_asset = portfolio['TSLA']\n",
    "tsla_return = tsla_asset.pct_change().dropna() * 100"
   ]
  },
  {
   "cell_type": "code",
   "execution_count": 11,
   "id": "e3fe9be8",
   "metadata": {},
   "outputs": [],
   "source": [
    "fig = px.line(tsla_return)\n",
    "fig.update_layout(legend_title = \"Asset\", title = \"Returns (in %) per Day of TSLA\")\n",
    "fig.update_xaxes(title = \"Date\")\n",
    "fig.update_yaxes(title = \"Return (in %)\")\n",
    "fig.update_layout(width = 950, height = 700, title_x = 0.5, template = \"ggplot2\")\n",
    "\n",
    "fig.write_image(\"Images/Returns_Per_Day_TSLA.png\")"
   ]
  },
  {
   "cell_type": "markdown",
   "id": "49973da9",
   "metadata": {},
   "source": [
    "![title](Images/Returns_Per_Day_TSLA.png)"
   ]
  },
  {
   "cell_type": "markdown",
   "id": "a7639127",
   "metadata": {},
   "source": [
    "From the return per day we can see that the beginning of 2020 was very eventful. This can be explained by the COVID-19 pandemic. Then, the recent visible increase in volatility can also explained by the fear caused by the COVID-19 omicron variant. Let's calculate volatility."
   ]
  },
  {
   "cell_type": "code",
   "execution_count": 12,
   "id": "38c50fcb",
   "metadata": {},
   "outputs": [
    {
     "name": "stdout",
     "output_type": "stream",
     "text": [
      "The average daily volatility is 3.625287137572878\n",
      "The average monthly volatility is 16.613152723877498\n",
      "The average annual volatility is 57.54964918331424\n"
     ]
    }
   ],
   "source": [
    "import math\n",
    "\n",
    "tsla_daily_volatility = tsla_return.std()\n",
    "print(\"The average daily volatility is\", tsla_daily_volatility)\n",
    "\n",
    "tsla_monthly_volatility = math.sqrt(21) * tsla_daily_volatility\n",
    "print(\"The average monthly volatility is\", tsla_monthly_volatility)\n",
    "\n",
    "tsla_annual_volatility = math.sqrt(252) * tsla_daily_volatility\n",
    "print(\"The average annual volatility is\", tsla_annual_volatility)"
   ]
  },
  {
   "cell_type": "markdown",
   "id": "37e938e1",
   "metadata": {},
   "source": [
    "From here it seems useful to take a look at the distribution of the returns as well as the VaR and cVaR."
   ]
  },
  {
   "cell_type": "code",
   "execution_count": 13,
   "id": "1f3958c7",
   "metadata": {},
   "outputs": [],
   "source": [
    "fig = px.histogram(tsla_return)\n",
    "fig.update_layout(legend_title = \"\", title = \"Returns (in %) of TSLA\")\n",
    "fig.update_xaxes(title = \"Returns (in %)\")\n",
    "fig.update_yaxes(title = \"Frequency of Returns\")\n",
    "fig.update_layout(width = 950, height = 700, title_x = 0.5, template = \"ggplot2\")\n",
    "\n",
    "fig.write_image(\"Images/Returns_TSLA_Hist.png\")"
   ]
  },
  {
   "cell_type": "markdown",
   "id": "01df9d0f",
   "metadata": {},
   "source": [
    "![title](Images/Returns_TSLA_Hist.png)"
   ]
  },
  {
   "cell_type": "markdown",
   "id": "7cd3aeae",
   "metadata": {},
   "source": [
    "As can be seen, the returns are relatively normal distributed (possibly t-distribution). For now, we are going to assume a normal distribution:"
   ]
  },
  {
   "cell_type": "code",
   "execution_count": 14,
   "id": "0de68840",
   "metadata": {},
   "outputs": [
    {
     "name": "stdout",
     "output_type": "stream",
     "text": [
      "VaR(90): -3.354413502899729\n",
      "CVaR(90): -5.983841024719736\n",
      "\n",
      "VaR(90): -4.977261277312514\n",
      "CVaR(90): -7.902930921500541\n",
      "\n",
      "VaR(99): -8.974423869669101\n",
      "CVaR(99): -13.277236397085636\n"
     ]
    }
   ],
   "source": [
    "## Calculate VaR(90) and CVaR(90)\n",
    "var_90 = np.percentile(tsla_return, 10)\n",
    "cvar_90 = tsla_return[tsla_return <= var_90].mean()\n",
    "\n",
    "## Calculate VaR(95) and CVaR(95)\n",
    "var_95 = np.percentile(tsla_return, 5)\n",
    "cvar_95 = tsla_return[tsla_return <= var_95].mean()\n",
    "\n",
    "## Calculate VaR(99) and CVaR(99)\n",
    "var_99 = np.percentile(tsla_return, 1)\n",
    "cvar_99 = tsla_return[tsla_return <= var_99].mean()\n",
    "\n",
    "\n",
    "print(\"VaR(90):\",var_90)\n",
    "print(\"CVaR(90):\", cvar_90)\n",
    "\n",
    "print(\"\")\n",
    "\n",
    "print(\"VaR(90):\",var_95)\n",
    "print(\"CVaR(90):\", cvar_95)\n",
    "\n",
    "print(\"\")\n",
    "\n",
    "print(\"VaR(99):\",var_99)\n",
    "print(\"CVaR(99):\", cvar_99)"
   ]
  },
  {
   "cell_type": "markdown",
   "id": "a7cceeca",
   "metadata": {},
   "source": [
    "Let's add these values to the histogram!"
   ]
  },
  {
   "cell_type": "code",
   "execution_count": 15,
   "id": "ae45afa1",
   "metadata": {},
   "outputs": [],
   "source": [
    "fig.update_yaxes(range = [0,150])\n",
    "\n",
    "fig.add_trace(go.Scatter(x=(var_90,var_90), y = (0,200), mode = 'lines', line_color='Red', name = \"VaR(90)\"))\n",
    "fig.add_trace(go.Scatter(x=(cvar_90,cvar_90),y = (0,200), line_dash='dash', line_color='Red',name = \"CVaR(90)\"))\n",
    "\n",
    "\n",
    "fig.add_trace(go.Scatter(x=(var_95,var_95), y = (0,200), mode = 'lines', line_color='Green', name = \"VaR(95)\"))\n",
    "fig.add_trace(go.Scatter(x=(cvar_95,cvar_95),y = (0,200), line_dash='dash', line_color='Green',name = \"CVaR(95)\"))\n",
    "\n",
    "fig.add_trace(go.Scatter(x=(var_99,var_99), y = (0,200), mode = 'lines', line_color='Purple', name = \"VaR(99)\"))\n",
    "fig.add_trace(go.Scatter(x=(cvar_99,cvar_99),y = (0,200), line_dash='dash', line_color='Purple',name = \"CVaR(99)\"))\n",
    "\n",
    "fig.write_image(\"Images/Returns_TSLA_Hist_VaR.png\")"
   ]
  },
  {
   "cell_type": "markdown",
   "id": "6576fb80",
   "metadata": {},
   "source": [
    "![title](Images/Returns_TSLA_Hist_VaR.png)"
   ]
  },
  {
   "cell_type": "markdown",
   "id": "d9514dd2",
   "metadata": {},
   "source": [
    "Great, this plot is giving us a lot of information. Let's focus only on VaR(90). The value is telling us that (historically) there is a probability of 90 percent that the losses don't exceed -3.35%. If they do, there is a 90% probabilty the losses don't exceed 5.98%. This is an example of very simple and straight forward risk management. But before we dive into more detail only focusing on the TSLA assest, let's look at our whole portfolio."
   ]
  },
  {
   "cell_type": "markdown",
   "id": "826bad59",
   "metadata": {},
   "source": [
    "## Hedging\n",
    "\n",
    "Hedging is mostly used to offset any losses. At first, we will look at how the asset price has an influence on the cost of a put option. To do so we will use the Black Scholes method of pricing options."
   ]
  },
  {
   "cell_type": "code",
   "execution_count": 16,
   "id": "d8204f04",
   "metadata": {},
   "outputs": [],
   "source": [
    "## Defining Black Scholes functions \n",
    "\n",
    "# The Black-Scholes option pricing formula for European options\n",
    "# Adapted from: Black, F., & Scholes, M. (1973). The Pricing of Options and Corporate Liabilities. Journal of Political Economy, 81(3), 637-654, www.jstor.org/stable/1831029.\n",
    "# MIT License\n",
    "# Copyright (c) 2019 Jamsheed Shorish\n",
    "\n",
    "import numpy as np\n",
    "from scipy.stats import norm\n",
    "\n",
    "\n",
    "# Auxiliary function for d_one risk-adjusted probability\n",
    "def d11(S, X, T, r, sigma):\n",
    "    \"\"\"This is an auxiliary function and is not intended to be called externally.\"\"\"\n",
    "    return (np.log(S/X) + (r + 0.5 * sigma**2)*T) / (sigma * np.sqrt(T))\n",
    "\n",
    "# Auxiliary function for d_two risk-adjusted probability    \n",
    "def d21(d1, T, sigma):\n",
    "    \"\"\"This is an auxiliary function and is not intended to be called externally.\"\"\"\n",
    "    return d1 - sigma * np.sqrt(T)\n",
    "\n",
    "# Definition of the Black-Scholes delta function    \n",
    "def bs_delta(S, X, T, r, sigma, option_type):\n",
    "    \"\"\"Compute the delta of the Black-Scholes option pricing formula.\n",
    "    \n",
    "    Arguments:\n",
    "    S           -- the current spot price of the underlying stock\n",
    "    X           -- the option strike price\n",
    "    T           -- the time until maturity (in fractions of a year)\n",
    "    r           -- the risk-free interest rate \n",
    "    sigma       -- the returns volatility of the underlying stock\n",
    "    option_type -- the option type, either 'call' or 'put'\n",
    "    \n",
    "    Returns: a numpy.float_ representing the delta value\n",
    "    Exceptions raised: ValueError if option_type is not 'call' or 'put'\n",
    "    \"\"\"\n",
    "    if option_type == 'call':\n",
    "        return norm.cdf(d11(S, X, T, r, sigma))\n",
    "    elif option_type == 'put':\n",
    "        return norm.cdf(-d11(S, X, T, r, sigma))\n",
    "    else:\n",
    "        # Raise an error if the option_type is neither a call nor a put\n",
    "        raise ValueError(\"Option type is either 'call' or 'put'.\")\n",
    "\n",
    "# Definition of the Black-Scholes European option pricing formula    \n",
    "def black_scholes(S, X, T, r, sigma, option_type):\n",
    "    \"\"\"Price a European option using the Black-Scholes option pricing formula.\n",
    "    \n",
    "    Arguments:\n",
    "    S           -- the current spot price of the underlying stock\n",
    "    X           -- the option strike price\n",
    "    T           -- the time until maturity (in fractions of a year)\n",
    "    r           -- the risk-free interest rate \n",
    "    sigma       -- the returns volatility of the underlying stock\n",
    "    option_type -- the option type, either 'call' or 'put'\n",
    "    \n",
    "    Returns: a numpy.float_ representing the option value\n",
    "    Exceptions raised: ValueError if option_type is not 'call' or 'put'\n",
    "    \"\"\"\n",
    "    d_one = d11(S, X, T, r, sigma)\n",
    "    d_two = d21(d_one, T, sigma)\n",
    "    if option_type == 'call':\n",
    "        return S * norm.cdf(d_one) - np.exp(-r * T) * X * norm.cdf(d_two)\n",
    "    elif option_type == 'put':\n",
    "        return -(S * norm.cdf(-d_one) - np.exp(-r * T) * X * norm.cdf(-d_two))\n",
    "    else:\n",
    "        # Raise an error if the option_type is neither a call nor a put\n",
    "        raise ValueError(\"Option type is either 'call' or 'put'.\")\n",
    "\n",
    "## Defining Black Scholes functions"
   ]
  },
  {
   "cell_type": "code",
   "execution_count": 17,
   "id": "59ffc5ee",
   "metadata": {},
   "outputs": [],
   "source": [
    "tsla_price_last_year = tsla_asset.tail(252)\n",
    "option_values_1500 = np.zeros(tsla_price_last_year.size)\n",
    "\n",
    "## Strike price is choosen arbitrarily\n",
    "\n",
    "for i,S in enumerate(tsla_price_last_year.values):\n",
    "    option_values_1500[i] = black_scholes(S = S, X = 1500, T = 1, r = 0.02, \n",
    "                        sigma = tsla_annual_volatility/100, option_type = 'put')"
   ]
  },
  {
   "cell_type": "code",
   "execution_count": 18,
   "id": "a9af4640",
   "metadata": {},
   "outputs": [],
   "source": [
    "fig = go.Figure()\n",
    "\n",
    "fig.add_trace(go.Scatter(x=np.array(range(252)), y = option_values_1500, mode = 'lines',\n",
    "                         name = \"Put Option:<br>Strike = $1500\"))\n",
    "\n",
    "fig.add_trace(go.Scatter(x=np.array(range(252)), y = tsla_price_last_year, mode = 'lines', name = \"TSLA\"))\n",
    "fig.update_layout(legend_title = \"Asset\", title = \"Correlation between Asset Price and Put Value\")\n",
    "fig.update_xaxes(title = \"Time\")\n",
    "fig.update_yaxes(title = \"Value (in $)\")\n",
    "fig.update_layout(width = 950, height = 700, title_x = 0.5, template = \"ggplot2\")\n",
    "\n",
    "fig.write_image(\"Images/TSLA_Put_New.png\")"
   ]
  },
  {
   "cell_type": "markdown",
   "id": "3e539c4f",
   "metadata": {},
   "source": [
    "![title](Images/TSLA_Put_New.png)"
   ]
  },
  {
   "cell_type": "markdown",
   "id": "7e933ae5",
   "metadata": {},
   "source": [
    "Here we can clearly see the connection between the assets price and the put price. If the asset prices rises, the value of the put option lowers and vice versa. This is exactly what we need for our hedging plan."
   ]
  },
  {
   "cell_type": "markdown",
   "id": "abc52b9f",
   "metadata": {},
   "source": [
    "Now we can calculate our option delta. This will allow us to show that with each change in the asset/option price we offset our loss. Let's assume our assets value falls from 1100 to 1095."
   ]
  },
  {
   "cell_type": "code",
   "execution_count": 19,
   "id": "d1388683",
   "metadata": {},
   "outputs": [
    {
     "name": "stdout",
     "output_type": "stream",
     "text": [
      "0.013151183222512408\n"
     ]
    }
   ],
   "source": [
    "value = black_scholes(S = 1100, X = 1500, T = 1, r = 0.02, \n",
    "                      sigma = tsla_annual_volatility/100, option_type = \"put\")\n",
    "\n",
    "delta = bs_delta(S = 1100, X = 1500, T = 1, r = 0.02, \n",
    "                 sigma = tsla_annual_volatility/100, option_type = \"put\")\n",
    "\n",
    "value_change = black_scholes(S = 1095, X = 1500, T = 1, r = 0.02, \n",
    "                             sigma = tsla_annual_volatility/100, option_type = \"put\") - value\n",
    "\n",
    "print( (1095 - 1100) + (1/delta) * value_change )"
   ]
  },
  {
   "cell_type": "markdown",
   "id": "0f287712",
   "metadata": {},
   "source": [
    "Generally the aim is for delta neutrality = 0 - this would mean we offset any drop in the assets price with the same increase in the put value. We can see that this is the case in our example for TSLA. Therefore, this put option would be very useful to hedge our TSLA stock."
   ]
  },
  {
   "cell_type": "markdown",
   "id": "81835b9f",
   "metadata": {},
   "source": [
    "## Best Suited Portfolio Weights - GMV and MSR and The Efficient Frontier\n",
    "\n",
    "Let's determine the portfolio weights for the best valued portfolio and the portfolio with the least risk - we can use the efficient frontier to do so! We are going to include all assets in the efficient frontier."
   ]
  },
  {
   "cell_type": "code",
   "execution_count": 20,
   "id": "01099c3b",
   "metadata": {},
   "outputs": [],
   "source": [
    "annualized_asset_returns = (1+asset_returns.mean())**252 - 1\n",
    "annualized_cov = (asset_returns).cov()*252\n",
    "risk_free_rate=0\n",
    "n_portfolios = 2000\n",
    "\n",
    "plot_pairs = []\n",
    "weights_list = []\n",
    "\n",
    "np.random.seed(2)\n",
    "\n",
    "for i in range(n_portfolios):\n",
    "    weights = np.random.rand(5)\n",
    "    weights = weights/sum(weights)\n",
    "    weights_list.append([weights])\n",
    "    portfolio_E_Variance = np.sqrt(np.dot(weights.T, np.dot(annualized_cov, weights)))\n",
    "    portfolio_E_Return = annualized_asset_returns.multiply(weights, axis = 0).sum()\n",
    "    plot_pairs.append([portfolio_E_Return, portfolio_E_Variance])\n",
    "    \n",
    "    \n",
    "plot_pairs = np.array(plot_pairs)\n",
    "sharpe_ratio = np.array((plot_pairs[:,0] - risk_free_rate)/plot_pairs[:,1])\n",
    "fig = go.Figure()\n",
    "fig.add_trace(go.Scatter(x=plot_pairs[:,1], y=plot_pairs[:,0], \n",
    "                         marker = dict(color = sharpe_ratio,showscale=True,\n",
    "                                       colorbar=dict(title=\"Sharpe<br>Ratio\")),mode='markers'))\n",
    "fig.update_layout(title = \"The Efficient Frontier\",title_x = 0.5)\n",
    "fig.update_yaxes(title = \"Annualized Return\")\n",
    "fig.update_xaxes(title = \"Annualized Risk (Volatility)\")\n",
    "fig.write_image(\"Images/The_Efficient_Frontier_New.png\")"
   ]
  },
  {
   "cell_type": "markdown",
   "id": "b2cb8db4",
   "metadata": {},
   "source": [
    "![title](Images/The_Efficient_Frontier_New.png)"
   ]
  },
  {
   "cell_type": "markdown",
   "id": "047c0097",
   "metadata": {},
   "source": [
    "From here we can see the efficient frontier. We can pick a point on the efficient frontier following the basic rule: The higher the return, the higher the risk. The lower the return, the lower the risk. Let's calculate the MSR and GMV."
   ]
  },
  {
   "cell_type": "code",
   "execution_count": 21,
   "id": "21f5c95e",
   "metadata": {},
   "outputs": [
    {
     "name": "stdout",
     "output_type": "stream",
     "text": [
      "The maximum sharpe ratio is: 2.1940235623317452\n",
      "The associated weights are: [array([0.39209185, 0.14340418, 0.00617222, 0.445952  , 0.01237976])]\n"
     ]
    }
   ],
   "source": [
    "indx_msr = sharpe_ratio.argsort()[len(sharpe_ratio)-1]\n",
    "\n",
    "print(\"The maximum sharpe ratio is:\", sharpe_ratio[indx_msr])\n",
    "\n",
    "print(\"The associated weights are:\",weights_list[indx_msr])"
   ]
  },
  {
   "cell_type": "code",
   "execution_count": 22,
   "id": "148e9410",
   "metadata": {},
   "outputs": [
    {
     "name": "stdout",
     "output_type": "stream",
     "text": [
      "The minimum volatility is: 0.2502319371101916\n",
      "The associated weights are: [array([0.02928756, 0.04248366, 0.01379509, 0.4640012 , 0.45043249])]\n"
     ]
    }
   ],
   "source": [
    "indx_gmv = plot_pairs[:,1].argsort()[0]\n",
    "\n",
    "print(\"The minimum volatility is:\",plot_pairs[indx_gmv][1])\n",
    "\n",
    "print(\"The associated weights are:\",weights_list[indx_gmv])"
   ]
  },
  {
   "cell_type": "code",
   "execution_count": 23,
   "id": "9aca0bc8",
   "metadata": {},
   "outputs": [
    {
     "name": "stdout",
     "output_type": "stream",
     "text": [
      "['TSLA', 'GME', 'AMC', 'MSFT', 'GOOG']\n"
     ]
    }
   ],
   "source": [
    "print(tickers)"
   ]
  },
  {
   "cell_type": "markdown",
   "id": "79f9b850",
   "metadata": {},
   "source": [
    "This is giving us some great insight. If we want a great performing portfolio (high sharpe ratio) we would wanna hold mostly MSFT and TSLA with some GME but almost no GOOG and GME. However, this sharpe ratio is historical. This means, just because the historical sharpe ratio is good - the future is not guaranteed to be good. When looking at the GMV, we would mostly hold MSTF and GOOG. This makes sense since the historical growth has been really steady for both stocks - indicating low risk - but also low reward. "
   ]
  },
  {
   "cell_type": "markdown",
   "id": "042ff2b1",
   "metadata": {},
   "source": [
    "Let's asses our VaR and CVaR again! "
   ]
  },
  {
   "cell_type": "code",
   "execution_count": 24,
   "id": "e8da6194",
   "metadata": {},
   "outputs": [],
   "source": [
    "gmv_weights = [0.02928756, 0.04248366, 0.01379509, 0.4640012 , 0.45043249]\n",
    "\n",
    "gmv_portfolio = (portfolio * gmv_weights).sum(axis=1)\n",
    "gmv_portfolio_pct_returns = gmv_portfolio.pct_change().dropna() * 100\n"
   ]
  },
  {
   "cell_type": "code",
   "execution_count": 25,
   "id": "86e85d3b",
   "metadata": {},
   "outputs": [],
   "source": [
    "fig = px.line(gmv_portfolio_pct_returns)\n",
    "fig.update_layout(legend_title = \"Asset\", title = \"Returns (in %) per Day of our GMV\")\n",
    "fig.update_xaxes(title = \"Date\")\n",
    "fig.update_yaxes(title = \"Return (in %)\")\n",
    "fig.update_layout(width = 950, height = 700, title_x = 0.5, template = \"ggplot2\",showlegend=False)\n",
    "\n",
    "fig.write_image(\"Images/Returns_Per_Day_GMV_New.png\")"
   ]
  },
  {
   "cell_type": "markdown",
   "id": "535f71b9",
   "metadata": {},
   "source": [
    "![title](Images/Returns_Per_Day_GMV_New.png)"
   ]
  },
  {
   "cell_type": "markdown",
   "id": "89f1d4d3",
   "metadata": {},
   "source": [
    "We have choosen the GMV this means that the volatility overall is very low. However, there is a high volatility peak around the beginning of 2020 which is unavoidable due to COVID-19."
   ]
  },
  {
   "cell_type": "code",
   "execution_count": 26,
   "id": "cceae2d9",
   "metadata": {},
   "outputs": [],
   "source": [
    "fig = px.histogram(gmv_portfolio_pct_returns)\n",
    "fig.update_layout(legend_title = \"\", title = \"Returns (in %) of GMV\")\n",
    "fig.update_xaxes(title = \"Returns (in %)\")\n",
    "fig.update_yaxes(title = \"Frequency of Returns\")\n",
    "fig.update_layout(width = 950, height = 700, title_x = 0.5, template = \"ggplot2\", showlegend = False)\n",
    "\n",
    "fig.write_image(\"Images/Returns_GMV_Hist_New.png\")"
   ]
  },
  {
   "cell_type": "markdown",
   "id": "2fdee238",
   "metadata": {},
   "source": [
    "![title](Images/Returns_GMV_Hist_New.png)"
   ]
  },
  {
   "cell_type": "markdown",
   "id": "6a412f59",
   "metadata": {},
   "source": [
    "Let's add our *historical* VaR and CVaR."
   ]
  },
  {
   "cell_type": "code",
   "execution_count": 27,
   "id": "a010be8a",
   "metadata": {},
   "outputs": [
    {
     "name": "stdout",
     "output_type": "stream",
     "text": [
      "VaR(90): -1.6208245377309805\n",
      "CVaR(90): -2.9433353757639957\n",
      "\n",
      "VaR(90): -2.4769765312070344\n",
      "CVaR(90): -3.726762755595857\n",
      "\n",
      "VaR(99): -4.7602899224502755\n",
      "CVaR(99): -5.731114971323832\n"
     ]
    }
   ],
   "source": [
    "## Calculate VaR(90) and CVaR(90)\n",
    "var_90 = np.percentile(gmv_portfolio_pct_returns, 10)\n",
    "cvar_90 = tsla_return[gmv_portfolio_pct_returns <= var_90].mean()\n",
    "\n",
    "## Calculate VaR(95) and CVaR(95)\n",
    "var_95 = np.percentile(gmv_portfolio_pct_returns, 5)\n",
    "cvar_95 = tsla_return[gmv_portfolio_pct_returns <= var_95].mean()\n",
    "\n",
    "## Calculate VaR(99) and CVaR(99)\n",
    "var_99 = np.percentile(gmv_portfolio_pct_returns, 1)\n",
    "cvar_99 = tsla_return[gmv_portfolio_pct_returns <= var_99].mean()\n",
    "\n",
    "\n",
    "print(\"VaR(90):\",var_90)\n",
    "print(\"CVaR(90):\", cvar_90)\n",
    "\n",
    "print(\"\")\n",
    "\n",
    "print(\"VaR(90):\",var_95)\n",
    "print(\"CVaR(90):\", cvar_95)\n",
    "\n",
    "print(\"\")\n",
    "\n",
    "print(\"VaR(99):\",var_99)\n",
    "print(\"CVaR(99):\", cvar_99)\n",
    "\n",
    "fig.update_yaxes(range = [0,150])\n",
    "\n",
    "fig.add_trace(go.Scatter(x=(var_90,var_90), y = (0,200), mode = 'lines', line_color='Red', name = \"VaR(90)\"))\n",
    "fig.add_trace(go.Scatter(x=(cvar_90,cvar_90),y = (0,200), line_dash='dash', line_color='Red',name = \"CVaR(90)\"))\n",
    "\n",
    "\n",
    "fig.add_trace(go.Scatter(x=(var_95,var_95), y = (0,200), mode = 'lines', line_color='Green', name = \"VaR(95)\"))\n",
    "fig.add_trace(go.Scatter(x=(cvar_95,cvar_95),y = (0,200), line_dash='dash', line_color='Green',name = \"CVaR(95)\"))\n",
    "\n",
    "fig.add_trace(go.Scatter(x=(var_99,var_99), y = (0,200), mode = 'lines', line_color='Purple', name = \"VaR(99)\"))\n",
    "fig.add_trace(go.Scatter(x=(cvar_99,cvar_99),y = (0,200), line_dash='dash', line_color='Purple',name = \"CVaR(99)\"))\n",
    "\n",
    "fig.write_image(\"Images/Returns_GMV_Hist_VaR.png\")"
   ]
  },
  {
   "cell_type": "markdown",
   "id": "eea2ce72",
   "metadata": {},
   "source": [
    "![title](Images/Returns_GMV_Hist_VaR.png)"
   ]
  },
  {
   "cell_type": "markdown",
   "id": "79a0f022",
   "metadata": {},
   "source": [
    "However, this does not help us a lot. We know historically, it is expected to not loose more than 1.62% in 95% of cases. But this is the past - we need the future. We can use a Monte Carlo Estimation to generate possible futures and use those to calculate a better VaR and CVaR. First we need the daily portfolio variance."
   ]
  },
  {
   "cell_type": "code",
   "execution_count": 28,
   "id": "8272aa48",
   "metadata": {},
   "outputs": [],
   "source": [
    "portfolio_returns = portfolio.pct_change()\n",
    "portfolio_cov = portfolio_returns.cov()\n",
    "portfolio_vol_daily = np.sqrt(np.dot(np.dot(np.array(gmv_weights), portfolio_cov), np.array(gmv_weights).T))\n",
    "portfolio_avg_ret = np.mean(gmv_portfolio_pct_returns)"
   ]
  },
  {
   "cell_type": "code",
   "execution_count": 29,
   "id": "ce065b53",
   "metadata": {},
   "outputs": [
    {
     "name": "stdout",
     "output_type": "stream",
     "text": [
      "The average daily return is: 0.10411631037108311 %\n",
      "The average daily volatility is: 1.5763130415588282 %\n"
     ]
    }
   ],
   "source": [
    "print(\"The average daily return is:\",portfolio_avg_ret, \"%\")\n",
    "print(\"The average daily volatility is:\",portfolio_vol_daily*100,\"%\")"
   ]
  },
  {
   "cell_type": "markdown",
   "id": "254fd4a5",
   "metadata": {},
   "source": [
    "If we compare that to the daily volatility of the TSLA stock we see a large difference (1.57% (GMV) vs. 3.62% (TSLA)). If assuming that the distribution of the returns in the future is normal, we can choose mu to be our average daily portfolio return and the standard deviation to be the daily volatility. We are going to predict 252 days (one trading year). Then we can simulate the returns:"
   ]
  },
  {
   "cell_type": "code",
   "execution_count": 30,
   "id": "97f03695",
   "metadata": {},
   "outputs": [],
   "source": [
    "mu = portfolio_avg_ret\n",
    "sd = portfolio_vol_daily*100\n",
    "T = 252\n",
    "\n",
    "sim_returns = []\n",
    "\n",
    "## Each simulation is one year\n",
    "for i in range(100):\n",
    "\n",
    "    rand_rets = np.random.normal(mu, sd, T)\n",
    "    \n",
    "    sim_returns = np.concatenate([sim_returns, rand_rets])"
   ]
  },
  {
   "cell_type": "markdown",
   "id": "e558fe37",
   "metadata": {},
   "source": [
    "We can use the simulated returns to calculate the most probable VaR(95) and CVaR(95)."
   ]
  },
  {
   "cell_type": "code",
   "execution_count": 31,
   "id": "8c87d75d",
   "metadata": {},
   "outputs": [
    {
     "name": "stdout",
     "output_type": "stream",
     "text": [
      "VaR(95): -2.475763717610942\n",
      "CVaR(95): -3.1388585560309212\n"
     ]
    }
   ],
   "source": [
    "## Calculate VaR(90) and CVaR(90)\n",
    "var_95 = np.percentile(sim_returns, 5)\n",
    "cvar_95 = sim_returns[sim_returns <= var_95].mean()\n",
    "\n",
    "print(\"VaR(95):\",var_95)\n",
    "print(\"CVaR(95):\", cvar_95)"
   ]
  },
  {
   "cell_type": "markdown",
   "id": "51a039b4",
   "metadata": {},
   "source": [
    "We can see that using the Monte Carlo estimation we get similar VaR(95) and CVaR(95) values for the *upcoming* year -  which makes sense."
   ]
  },
  {
   "cell_type": "markdown",
   "id": "720f4542",
   "metadata": {},
   "source": [
    "## The GARCH Model for Prediction and VaR/CVaR"
   ]
  },
  {
   "cell_type": "markdown",
   "id": "28988d10",
   "metadata": {},
   "source": [
    "TO BE IMPLEMENTED"
   ]
  },
  {
   "cell_type": "markdown",
   "id": "df1001ba",
   "metadata": {},
   "source": [
    "## Predicting Asset Prices using Neural Networks and Deep Learning\n",
    "\n",
    "In this section we will use 4 of our stock prices to predict the price of the last/5th one using Deep Learning and Tensorflow. \n",
    "\n",
    "For our training set we will keep all prices except the last - most recent - 6 Month. This month can be used for testing. Let's predict the price of GOOG."
   ]
  },
  {
   "cell_type": "code",
   "execution_count": 33,
   "id": "74e94444",
   "metadata": {},
   "outputs": [],
   "source": [
    "train_set = portfolio.drop(portfolio.tail(21*6).index)\n",
    "test_set = portfolio.tail(21*6)\n",
    "\n",
    "X_train = train_set[['TSLA','GME','AMC','MSFT']]\n",
    "y_train = train_set[['GOOG']]\n",
    "\n",
    "X_test = test_set[['TSLA','GME','AMC','MSFT']]\n",
    "y_test = test_set[['GOOG']]"
   ]
  },
  {
   "cell_type": "markdown",
   "id": "ae41f39e",
   "metadata": {},
   "source": [
    "After creating the train and test set we can prepare the model and train it."
   ]
  },
  {
   "cell_type": "code",
   "execution_count": 39,
   "id": "4ba567f3",
   "metadata": {},
   "outputs": [
    {
     "name": "stderr",
     "output_type": "stream",
     "text": [
      "2022-01-24 09:17:35.573506: I tensorflow/core/grappler/optimizers/custom_graph_optimizer_registry.cc:112] Plugin optimizer for device_type GPU is enabled.\n"
     ]
    },
    {
     "name": "stdout",
     "output_type": "stream",
     "text": [
      "44/44 [==============================] - 1s 9ms/step - loss: 7.1102\n"
     ]
    },
    {
     "data": {
      "text/plain": [
       "<keras.callbacks.History at 0x286615190>"
      ]
     },
     "execution_count": 39,
     "metadata": {},
     "output_type": "execute_result"
    }
   ],
   "source": [
    "import tensorflow as tf\n",
    "from tensorflow import keras\n",
    "from tensorflow.keras import layers\n",
    "\n",
    "model = keras.Sequential()\n",
    "model.add(layers.Dense(500, input_dim=4, activation='sigmoid'))\n",
    "model.add(layers.Dense(100, activation='relu'))\n",
    "model.add(layers.Dense(100, activation='relu'))\n",
    "model.add(layers.Dense(100, activation='relu'))\n",
    "model.add(layers.Dense(50, activation='relu'))\n",
    "model.add(layers.Dense(50, activation='relu'))\n",
    "model.add(layers.Dense(50, activation='relu'))\n",
    "model.add(layers.Dense(25, activation='relu'))\n",
    "model.add(layers.Dense(1))\n",
    "\n",
    "model.compile(loss='mean_squared_logarithmic_error', optimizer='rmsprop')\n",
    "model.fit(X_train, y_train, epochs=10000)"
   ]
  },
  {
   "cell_type": "code",
   "execution_count": 35,
   "id": "55629702",
   "metadata": {},
   "outputs": [
    {
     "name": "stderr",
     "output_type": "stream",
     "text": [
      "2022-01-24 09:16:48.749897: I tensorflow/core/grappler/optimizers/custom_graph_optimizer_registry.cc:112] Plugin optimizer for device_type GPU is enabled.\n"
     ]
    }
   ],
   "source": [
    "pred = pd.DataFrame(model.predict(X_test)).set_index(y_test.index)\n",
    "pred.columns = [\"GOOG (Pred)\"]\n",
    "pred_df = pd.concat([y_test, pred], axis = 1)"
   ]
  },
  {
   "cell_type": "code",
   "execution_count": 37,
   "id": "0721f4dd",
   "metadata": {},
   "outputs": [],
   "source": [
    "plot_df = pd.concat([X_test,pred_df], axis = 1)\n",
    "\n",
    "fig = px.line(plot_df)\n",
    "\n",
    "fig.update_layout(legend_title = \"Asset\", title = \"Asset Prices over Time ('GOOG' Predicted with Deep Learning)\")\n",
    "fig.update_xaxes(title = \"Date\")\n",
    "fig.update_yaxes(title = \"Stock Prices (in USD)\")\n",
    "fig.update_layout(width = 950, height = 700, title_x = 0.5, template = \"ggplot2\")\n",
    "\n",
    "fig.write_image('Images/Asset_Prices_Predicted_Deep_1000.png')"
   ]
  },
  {
   "cell_type": "markdown",
   "id": "beef9483",
   "metadata": {},
   "source": [
    "![title](Images/Asset_Prices_Predicted_Deep_1000.png)"
   ]
  },
  {
   "cell_type": "markdown",
   "id": "cc4b9f47",
   "metadata": {},
   "source": [
    "Here we can see that our model does not perform *tooooo* well. It seems to underestimate the price. That is better than overestimating since that could potentially lead to heavy losses. However, the model could be improved by adding layers and epochs! For now, this is more or less only a proof of concept."
   ]
  },
  {
   "cell_type": "code",
   "execution_count": null,
   "id": "ecd8897e",
   "metadata": {},
   "outputs": [],
   "source": []
  }
 ],
 "metadata": {
  "kernelspec": {
   "display_name": "Python 3 (ipykernel)",
   "language": "python",
   "name": "python3"
  },
  "language_info": {
   "codemirror_mode": {
    "name": "ipython",
    "version": 3
   },
   "file_extension": ".py",
   "mimetype": "text/x-python",
   "name": "python",
   "nbconvert_exporter": "python",
   "pygments_lexer": "ipython3",
   "version": "3.9.7"
  }
 },
 "nbformat": 4,
 "nbformat_minor": 5
}
