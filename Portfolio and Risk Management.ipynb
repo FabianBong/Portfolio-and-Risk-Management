{
 "cells": [
  {
   "cell_type": "markdown",
   "id": "01959a9e",
   "metadata": {},
   "source": [
    "## Portfolio and Risk Management\n",
    "\n",
    "This project is used as a tool to practice and apply methods I have learned about Portfolio and Risk Management. This project will be expanded on a rolling basis, mostly limited by how much time I have after school, etc... \n",
    "First we need to get some data."
   ]
  },
  {
   "cell_type": "code",
   "execution_count": 2,
   "id": "33ccca40",
   "metadata": {},
   "outputs": [],
   "source": [
    "## Imports\n",
    "\n",
    "import matplotlib as plt\n",
    "import pandas as pd\n",
    "import numpy as np\n",
    "import time\n",
    "from datetime import datetime\n",
    "import yfinance as yf"
   ]
  },
  {
   "cell_type": "code",
   "execution_count": 3,
   "id": "ae725c57",
   "metadata": {},
   "outputs": [
    {
     "name": "stdout",
     "output_type": "stream",
     "text": [
      "[*********************100%***********************]  1 of 1 completed\n",
      "[*********************100%***********************]  1 of 1 completed\n",
      "[*********************100%***********************]  1 of 1 completed\n",
      "[*********************100%***********************]  1 of 1 completed\n",
      "[*********************100%***********************]  1 of 1 completed\n"
     ]
    }
   ],
   "source": [
    "## Tickers part of the portfolio\n",
    "tickers = ['TSLA', 'GME', 'AMC' ,'MSFT', 'GOOG']\n",
    "\n",
    "## How long in the past we want to look\n",
    "start_date = datetime(2016, 1, 1)\n",
    "end_date = datetime(2022, 1, 16)\n",
    "\n",
    "## Get all the data from yahoo finance\n",
    "portfolio = pd.concat([yf.download(tickers[tick], start = start_date,end = end_date).iloc[:,4] \n",
    "                       for tick in range(len(tickers))],axis = 1)\n",
    "\n",
    "portfolio.columns = tickers"
   ]
  },
  {
   "cell_type": "markdown",
   "id": "050c5793",
   "metadata": {},
   "source": [
    "The next step would be to check for completness of the data and familiarize yourself with the structure of the data."
   ]
  },
  {
   "cell_type": "code",
   "execution_count": 4,
   "id": "ce3e599c",
   "metadata": {},
   "outputs": [
    {
     "data": {
      "text/html": [
       "<div>\n",
       "<style scoped>\n",
       "    .dataframe tbody tr th:only-of-type {\n",
       "        vertical-align: middle;\n",
       "    }\n",
       "\n",
       "    .dataframe tbody tr th {\n",
       "        vertical-align: top;\n",
       "    }\n",
       "\n",
       "    .dataframe thead th {\n",
       "        text-align: right;\n",
       "    }\n",
       "</style>\n",
       "<table border=\"1\" class=\"dataframe\">\n",
       "  <thead>\n",
       "    <tr style=\"text-align: right;\">\n",
       "      <th></th>\n",
       "      <th>TSLA</th>\n",
       "      <th>GME</th>\n",
       "      <th>AMC</th>\n",
       "      <th>MSFT</th>\n",
       "      <th>GOOG</th>\n",
       "    </tr>\n",
       "    <tr>\n",
       "      <th>Date</th>\n",
       "      <th></th>\n",
       "      <th></th>\n",
       "      <th></th>\n",
       "      <th></th>\n",
       "      <th></th>\n",
       "    </tr>\n",
       "  </thead>\n",
       "  <tbody>\n",
       "    <tr>\n",
       "      <th>2016-01-04</th>\n",
       "      <td>44.681999</td>\n",
       "      <td>21.848803</td>\n",
       "      <td>17.572332</td>\n",
       "      <td>49.591053</td>\n",
       "      <td>741.840027</td>\n",
       "    </tr>\n",
       "    <tr>\n",
       "      <th>2016-01-05</th>\n",
       "      <td>44.686001</td>\n",
       "      <td>22.203815</td>\n",
       "      <td>17.777107</td>\n",
       "      <td>49.817291</td>\n",
       "      <td>742.580017</td>\n",
       "    </tr>\n",
       "    <tr>\n",
       "      <th>2016-01-06</th>\n",
       "      <td>43.807999</td>\n",
       "      <td>21.895107</td>\n",
       "      <td>17.595087</td>\n",
       "      <td>48.912354</td>\n",
       "      <td>743.619995</td>\n",
       "    </tr>\n",
       "    <tr>\n",
       "      <th>2016-01-07</th>\n",
       "      <td>43.130001</td>\n",
       "      <td>21.956852</td>\n",
       "      <td>17.155209</td>\n",
       "      <td>47.211048</td>\n",
       "      <td>726.390015</td>\n",
       "    </tr>\n",
       "    <tr>\n",
       "      <th>2016-01-08</th>\n",
       "      <td>42.200001</td>\n",
       "      <td>21.895107</td>\n",
       "      <td>16.973194</td>\n",
       "      <td>47.355843</td>\n",
       "      <td>714.469971</td>\n",
       "    </tr>\n",
       "  </tbody>\n",
       "</table>\n",
       "</div>"
      ],
      "text/plain": [
       "                 TSLA        GME        AMC       MSFT        GOOG\n",
       "Date                                                              \n",
       "2016-01-04  44.681999  21.848803  17.572332  49.591053  741.840027\n",
       "2016-01-05  44.686001  22.203815  17.777107  49.817291  742.580017\n",
       "2016-01-06  43.807999  21.895107  17.595087  48.912354  743.619995\n",
       "2016-01-07  43.130001  21.956852  17.155209  47.211048  726.390015\n",
       "2016-01-08  42.200001  21.895107  16.973194  47.355843  714.469971"
      ]
     },
     "execution_count": 4,
     "metadata": {},
     "output_type": "execute_result"
    }
   ],
   "source": [
    "portfolio.head()"
   ]
  },
  {
   "cell_type": "code",
   "execution_count": 5,
   "id": "acb87413",
   "metadata": {},
   "outputs": [
    {
     "data": {
      "text/html": [
       "<div>\n",
       "<style scoped>\n",
       "    .dataframe tbody tr th:only-of-type {\n",
       "        vertical-align: middle;\n",
       "    }\n",
       "\n",
       "    .dataframe tbody tr th {\n",
       "        vertical-align: top;\n",
       "    }\n",
       "\n",
       "    .dataframe thead th {\n",
       "        text-align: right;\n",
       "    }\n",
       "</style>\n",
       "<table border=\"1\" class=\"dataframe\">\n",
       "  <thead>\n",
       "    <tr style=\"text-align: right;\">\n",
       "      <th></th>\n",
       "      <th>TSLA</th>\n",
       "      <th>GME</th>\n",
       "      <th>AMC</th>\n",
       "      <th>MSFT</th>\n",
       "      <th>GOOG</th>\n",
       "    </tr>\n",
       "  </thead>\n",
       "  <tbody>\n",
       "    <tr>\n",
       "      <th>count</th>\n",
       "      <td>1521.000000</td>\n",
       "      <td>1521.000000</td>\n",
       "      <td>1521.000000</td>\n",
       "      <td>1521.000000</td>\n",
       "      <td>1521.000000</td>\n",
       "    </tr>\n",
       "    <tr>\n",
       "      <th>mean</th>\n",
       "      <td>221.454803</td>\n",
       "      <td>40.280898</td>\n",
       "      <td>16.201018</td>\n",
       "      <td>135.963729</td>\n",
       "      <td>1336.691101</td>\n",
       "    </tr>\n",
       "    <tr>\n",
       "      <th>std</th>\n",
       "      <td>291.042571</td>\n",
       "      <td>63.279808</td>\n",
       "      <td>10.567634</td>\n",
       "      <td>80.806941</td>\n",
       "      <td>612.532663</td>\n",
       "    </tr>\n",
       "    <tr>\n",
       "      <th>min</th>\n",
       "      <td>28.733999</td>\n",
       "      <td>2.800000</td>\n",
       "      <td>1.980000</td>\n",
       "      <td>44.449963</td>\n",
       "      <td>668.260010</td>\n",
       "    </tr>\n",
       "    <tr>\n",
       "      <th>25%</th>\n",
       "      <td>50.310001</td>\n",
       "      <td>10.100000</td>\n",
       "      <td>9.489753</td>\n",
       "      <td>67.510147</td>\n",
       "      <td>930.390015</td>\n",
       "    </tr>\n",
       "    <tr>\n",
       "      <th>50%</th>\n",
       "      <td>65.820000</td>\n",
       "      <td>15.945119</td>\n",
       "      <td>13.260000</td>\n",
       "      <td>107.105690</td>\n",
       "      <td>1140.989990</td>\n",
       "    </tr>\n",
       "    <tr>\n",
       "      <th>75%</th>\n",
       "      <td>286.152008</td>\n",
       "      <td>22.180664</td>\n",
       "      <td>22.130541</td>\n",
       "      <td>200.470367</td>\n",
       "      <td>1485.930054</td>\n",
       "    </tr>\n",
       "    <tr>\n",
       "      <th>max</th>\n",
       "      <td>1229.910034</td>\n",
       "      <td>347.510010</td>\n",
       "      <td>62.549999</td>\n",
       "      <td>343.109985</td>\n",
       "      <td>3014.179932</td>\n",
       "    </tr>\n",
       "  </tbody>\n",
       "</table>\n",
       "</div>"
      ],
      "text/plain": [
       "              TSLA          GME          AMC         MSFT         GOOG\n",
       "count  1521.000000  1521.000000  1521.000000  1521.000000  1521.000000\n",
       "mean    221.454803    40.280898    16.201018   135.963729  1336.691101\n",
       "std     291.042571    63.279808    10.567634    80.806941   612.532663\n",
       "min      28.733999     2.800000     1.980000    44.449963   668.260010\n",
       "25%      50.310001    10.100000     9.489753    67.510147   930.390015\n",
       "50%      65.820000    15.945119    13.260000   107.105690  1140.989990\n",
       "75%     286.152008    22.180664    22.130541   200.470367  1485.930054\n",
       "max    1229.910034   347.510010    62.549999   343.109985  3014.179932"
      ]
     },
     "execution_count": 5,
     "metadata": {},
     "output_type": "execute_result"
    }
   ],
   "source": [
    "portfolio.describe()"
   ]
  },
  {
   "cell_type": "code",
   "execution_count": 6,
   "id": "4d83ddc5",
   "metadata": {},
   "outputs": [
    {
     "data": {
      "text/plain": [
       "False"
      ]
     },
     "execution_count": 6,
     "metadata": {},
     "output_type": "execute_result"
    }
   ],
   "source": [
    "portfolio.isnull().values.any()"
   ]
  },
  {
   "cell_type": "markdown",
   "id": "52c98a21",
   "metadata": {},
   "source": [
    "It also seems to be helpful to plot the plot prices as a function of time. However, since some of the assets have largely different prices the scale might be affected."
   ]
  },
  {
   "cell_type": "code",
   "execution_count": 7,
   "id": "0dfcf6c9",
   "metadata": {},
   "outputs": [],
   "source": [
    "import plotly.express as px\n",
    "import plotly.io as pio\n",
    "import plotly.graph_objects as go\n",
    "\n",
    "pio.renderers.default = \"svg\"\n",
    "\n",
    "fig = px.line(portfolio)\n",
    "\n",
    "fig.update_layout(legend_title = \"Asset\", title = \"Asset Prices over Time\")\n",
    "fig.update_xaxes(title = \"Date\")\n",
    "fig.update_yaxes(title = \"Stock Prices (in USD)\")\n",
    "fig.update_layout(width = 950, height = 700, title_x = 0.5, template = \"ggplot2\")\n",
    "\n",
    "fig.write_image(\"Images/Asset_Prices_Over_Time.png\")"
   ]
  },
  {
   "cell_type": "markdown",
   "id": "9f2e0fec",
   "metadata": {},
   "source": [
    "![title](Images/Asset_Prices_Over_Time.png)"
   ]
  },
  {
   "cell_type": "markdown",
   "id": "29da6dd9",
   "metadata": {},
   "source": [
    "As expected, the scale suffers. Let's plot the cummulative returns. This should increase legibility of the plot.\n"
   ]
  },
  {
   "cell_type": "code",
   "execution_count": 8,
   "id": "c6d58d57",
   "metadata": {},
   "outputs": [
    {
     "data": {
      "text/html": [
       "<div>\n",
       "<style scoped>\n",
       "    .dataframe tbody tr th:only-of-type {\n",
       "        vertical-align: middle;\n",
       "    }\n",
       "\n",
       "    .dataframe tbody tr th {\n",
       "        vertical-align: top;\n",
       "    }\n",
       "\n",
       "    .dataframe thead th {\n",
       "        text-align: right;\n",
       "    }\n",
       "</style>\n",
       "<table border=\"1\" class=\"dataframe\">\n",
       "  <thead>\n",
       "    <tr style=\"text-align: right;\">\n",
       "      <th></th>\n",
       "      <th>TSLA</th>\n",
       "      <th>GME</th>\n",
       "      <th>AMC</th>\n",
       "      <th>MSFT</th>\n",
       "      <th>GOOG</th>\n",
       "    </tr>\n",
       "    <tr>\n",
       "      <th>Date</th>\n",
       "      <th></th>\n",
       "      <th></th>\n",
       "      <th></th>\n",
       "      <th></th>\n",
       "      <th></th>\n",
       "    </tr>\n",
       "  </thead>\n",
       "  <tbody>\n",
       "    <tr>\n",
       "      <th>2016-01-05</th>\n",
       "      <td>0.000090</td>\n",
       "      <td>0.016249</td>\n",
       "      <td>0.011653</td>\n",
       "      <td>0.004562</td>\n",
       "      <td>0.000998</td>\n",
       "    </tr>\n",
       "    <tr>\n",
       "      <th>2016-01-06</th>\n",
       "      <td>-0.019648</td>\n",
       "      <td>-0.013903</td>\n",
       "      <td>-0.010239</td>\n",
       "      <td>-0.018165</td>\n",
       "      <td>0.001400</td>\n",
       "    </tr>\n",
       "    <tr>\n",
       "      <th>2016-01-07</th>\n",
       "      <td>-0.015477</td>\n",
       "      <td>0.002820</td>\n",
       "      <td>-0.025000</td>\n",
       "      <td>-0.034783</td>\n",
       "      <td>-0.023170</td>\n",
       "    </tr>\n",
       "    <tr>\n",
       "      <th>2016-01-08</th>\n",
       "      <td>-0.021563</td>\n",
       "      <td>-0.002812</td>\n",
       "      <td>-0.010610</td>\n",
       "      <td>0.003067</td>\n",
       "      <td>-0.016410</td>\n",
       "    </tr>\n",
       "    <tr>\n",
       "      <th>2016-01-11</th>\n",
       "      <td>-0.014929</td>\n",
       "      <td>0.035601</td>\n",
       "      <td>-0.004022</td>\n",
       "      <td>-0.000573</td>\n",
       "      <td>0.002184</td>\n",
       "    </tr>\n",
       "  </tbody>\n",
       "</table>\n",
       "</div>"
      ],
      "text/plain": [
       "                TSLA       GME       AMC      MSFT      GOOG\n",
       "Date                                                        \n",
       "2016-01-05  0.000090  0.016249  0.011653  0.004562  0.000998\n",
       "2016-01-06 -0.019648 -0.013903 -0.010239 -0.018165  0.001400\n",
       "2016-01-07 -0.015477  0.002820 -0.025000 -0.034783 -0.023170\n",
       "2016-01-08 -0.021563 -0.002812 -0.010610  0.003067 -0.016410\n",
       "2016-01-11 -0.014929  0.035601 -0.004022 -0.000573  0.002184"
      ]
     },
     "execution_count": 8,
     "metadata": {},
     "output_type": "execute_result"
    }
   ],
   "source": [
    "asset_returns = portfolio.pct_change().dropna()\n",
    "\n",
    "asset_returns.head()"
   ]
  },
  {
   "cell_type": "code",
   "execution_count": 9,
   "id": "7dec08c6",
   "metadata": {},
   "outputs": [
    {
     "data": {
      "text/html": [
       "<div>\n",
       "<style scoped>\n",
       "    .dataframe tbody tr th:only-of-type {\n",
       "        vertical-align: middle;\n",
       "    }\n",
       "\n",
       "    .dataframe tbody tr th {\n",
       "        vertical-align: top;\n",
       "    }\n",
       "\n",
       "    .dataframe thead th {\n",
       "        text-align: right;\n",
       "    }\n",
       "</style>\n",
       "<table border=\"1\" class=\"dataframe\">\n",
       "  <thead>\n",
       "    <tr style=\"text-align: right;\">\n",
       "      <th></th>\n",
       "      <th>TSLA</th>\n",
       "      <th>GME</th>\n",
       "      <th>AMC</th>\n",
       "      <th>MSFT</th>\n",
       "      <th>GOOG</th>\n",
       "    </tr>\n",
       "    <tr>\n",
       "      <th>Date</th>\n",
       "      <th></th>\n",
       "      <th></th>\n",
       "      <th></th>\n",
       "      <th></th>\n",
       "      <th></th>\n",
       "    </tr>\n",
       "  </thead>\n",
       "  <tbody>\n",
       "    <tr>\n",
       "      <th>2016-01-05</th>\n",
       "      <td>0.008956</td>\n",
       "      <td>1.624862</td>\n",
       "      <td>1.165325</td>\n",
       "      <td>0.456208</td>\n",
       "      <td>0.099751</td>\n",
       "    </tr>\n",
       "    <tr>\n",
       "      <th>2016-01-06</th>\n",
       "      <td>-1.956046</td>\n",
       "      <td>0.211932</td>\n",
       "      <td>0.129491</td>\n",
       "      <td>-1.368593</td>\n",
       "      <td>0.239940</td>\n",
       "    </tr>\n",
       "    <tr>\n",
       "      <th>2016-01-07</th>\n",
       "      <td>-3.473430</td>\n",
       "      <td>0.494532</td>\n",
       "      <td>-2.373753</td>\n",
       "      <td>-4.799263</td>\n",
       "      <td>-2.082661</td>\n",
       "    </tr>\n",
       "    <tr>\n",
       "      <th>2016-01-08</th>\n",
       "      <td>-5.554806</td>\n",
       "      <td>0.211932</td>\n",
       "      <td>-3.409555</td>\n",
       "      <td>-4.507286</td>\n",
       "      <td>-3.689482</td>\n",
       "    </tr>\n",
       "    <tr>\n",
       "      <th>2016-01-11</th>\n",
       "      <td>-6.964772</td>\n",
       "      <td>3.779586</td>\n",
       "      <td>-3.798018</td>\n",
       "      <td>-4.562024</td>\n",
       "      <td>-3.479186</td>\n",
       "    </tr>\n",
       "  </tbody>\n",
       "</table>\n",
       "</div>"
      ],
      "text/plain": [
       "                TSLA       GME       AMC      MSFT      GOOG\n",
       "Date                                                        \n",
       "2016-01-05  0.008956  1.624862  1.165325  0.456208  0.099751\n",
       "2016-01-06 -1.956046  0.211932  0.129491 -1.368593  0.239940\n",
       "2016-01-07 -3.473430  0.494532 -2.373753 -4.799263 -2.082661\n",
       "2016-01-08 -5.554806  0.211932 -3.409555 -4.507286 -3.689482\n",
       "2016-01-11 -6.964772  3.779586 -3.798018 -4.562024 -3.479186"
      ]
     },
     "execution_count": 9,
     "metadata": {},
     "output_type": "execute_result"
    }
   ],
   "source": [
    "asset_returns_cum = ((1+asset_returns).cumprod()-1) * 100\n",
    "\n",
    "asset_returns_cum.head()"
   ]
  },
  {
   "cell_type": "code",
   "execution_count": 10,
   "id": "88f71b21",
   "metadata": {},
   "outputs": [],
   "source": [
    "fig = px.line(asset_returns_cum)\n",
    "\n",
    "fig.update_layout(legend_title = \"Asset\", title = \"Cummulative Return over Time\")\n",
    "fig.update_xaxes(title = \"Date\")\n",
    "fig.update_yaxes(title = \"Cummulative Return (in %)\")\n",
    "fig.update_layout(width = 950, height = 700, title_x = 0.5, template = \"ggplot2\")\n",
    "\n",
    "fig.write_image(\"Images/Cum_Return_Over_Time.png\")"
   ]
  },
  {
   "cell_type": "markdown",
   "id": "b23076a7",
   "metadata": {},
   "source": [
    "![title](Images/Cum_Return_Over_Time.png)"
   ]
  },
  {
   "cell_type": "markdown",
   "id": "0bbfaf0a",
   "metadata": {},
   "source": [
    "This plot helps a little more. From the first plot we would expect GOOG to be performing the best. However, this plot clearly shows that TSLA is blowing GOOG out of the water. As is GME, which seemed to be underperforming significantly when compared to GOOG. Let's take a closer look at the historical data of TSLA."
   ]
  },
  {
   "cell_type": "code",
   "execution_count": 11,
   "id": "ea4f3ead",
   "metadata": {},
   "outputs": [],
   "source": [
    "tsla_asset = portfolio['TSLA']\n",
    "tsla_return = tsla_asset.pct_change().dropna() * 100"
   ]
  },
  {
   "cell_type": "code",
   "execution_count": 12,
   "id": "e3fe9be8",
   "metadata": {},
   "outputs": [],
   "source": [
    "fig = px.line(tsla_return)\n",
    "fig.update_layout(legend_title = \"Asset\", title = \"Returns (in %) per Day of TSLA\")\n",
    "fig.update_xaxes(title = \"Date\")\n",
    "fig.update_yaxes(title = \"Return (in %)\")\n",
    "fig.update_layout(width = 950, height = 700, title_x = 0.5, template = \"ggplot2\")\n",
    "\n",
    "fig.write_image(\"Images/Returns_Per_Day_TSLA.png\")"
   ]
  },
  {
   "cell_type": "markdown",
   "id": "49973da9",
   "metadata": {},
   "source": [
    "![title](Images/Returns_Per_Day_TSLA.png)"
   ]
  },
  {
   "cell_type": "markdown",
   "id": "a7639127",
   "metadata": {},
   "source": [
    "From the return per day we can see that the beginning of 2020 was very eventful. This can be explained by the COVID-19 pandemic. Then, the recent visible increase in volatility can also explained by the fear caused by the COVID-19 omicron variant. Let's calculate volatility."
   ]
  },
  {
   "cell_type": "code",
   "execution_count": 13,
   "id": "38c50fcb",
   "metadata": {},
   "outputs": [
    {
     "name": "stdout",
     "output_type": "stream",
     "text": [
      "The average daily volatility is 3.625287137572878\n",
      "The average monthly volatility is 16.613152723877498\n",
      "The average annual volatility is 263.725623600691\n"
     ]
    }
   ],
   "source": [
    "import math\n",
    "\n",
    "tsla_daily_volatility = tsla_return.std()\n",
    "print(\"The average daily volatility is\", tsla_daily_volatility)\n",
    "\n",
    "tsla_monthly_volatility = math.sqrt(21) * tsla_daily_volatility\n",
    "print(\"The average monthly volatility is\", tsla_monthly_volatility)\n",
    "\n",
    "tsla_annual_volatility = math.sqrt(252) * tsla_monthly_volatility\n",
    "print(\"The average annual volatility is\", tsla_annual_volatility)"
   ]
  },
  {
   "cell_type": "markdown",
   "id": "37e938e1",
   "metadata": {},
   "source": [
    "From here it seems useful to take a look at the distribution of the returns as well as the VaR and cVaR."
   ]
  },
  {
   "cell_type": "code",
   "execution_count": 14,
   "id": "1f3958c7",
   "metadata": {},
   "outputs": [],
   "source": [
    "fig = px.histogram(tsla_return)\n",
    "fig.update_layout(legend_title = \"\", title = \"Returns (in %) of TSLA\")\n",
    "fig.update_xaxes(title = \"Returns (in %)\")\n",
    "fig.update_yaxes(title = \"Frequency of Returns\")\n",
    "fig.update_layout(width = 950, height = 700, title_x = 0.5, template = \"ggplot2\")\n",
    "\n",
    "fig.write_image(\"Images/Returns_TSLA_Hist.png\")"
   ]
  },
  {
   "cell_type": "markdown",
   "id": "01df9d0f",
   "metadata": {},
   "source": [
    "![title](Images/Returns_TSLA_Hist.png)"
   ]
  },
  {
   "cell_type": "markdown",
   "id": "7cd3aeae",
   "metadata": {},
   "source": [
    "As can be seen, the returns are relatively normal distributed (possibly t-distribution). For now, we are going to assume a normal distribution:"
   ]
  },
  {
   "cell_type": "code",
   "execution_count": 15,
   "id": "0de68840",
   "metadata": {},
   "outputs": [
    {
     "name": "stdout",
     "output_type": "stream",
     "text": [
      "VaR(90): -3.354413502899729\n",
      "CVaR(90): -5.983841024719736\n",
      "\n",
      "VaR(90): -4.977261277312514\n",
      "CVaR(90): -7.902930921500541\n",
      "\n",
      "VaR(99): -8.97442386966909\n",
      "CVaR(99): -13.277236397085638\n"
     ]
    }
   ],
   "source": [
    "## Calculate VaR(90) and CVaR(90)\n",
    "var_90 = np.percentile(tsla_return, 10)\n",
    "cvar_90 = tsla_return[tsla_return <= var_90].mean()\n",
    "\n",
    "## Calculate VaR(95) and CVaR(95)\n",
    "var_95 = np.percentile(tsla_return, 5)\n",
    "cvar_95 = tsla_return[tsla_return <= var_95].mean()\n",
    "\n",
    "## Calculate VaR(99) and CVaR(99)\n",
    "var_99 = np.percentile(tsla_return, 1)\n",
    "cvar_99 = tsla_return[tsla_return <= var_99].mean()\n",
    "\n",
    "\n",
    "print(\"VaR(90):\",var_90)\n",
    "print(\"CVaR(90):\", cvar_90)\n",
    "\n",
    "print(\"\")\n",
    "\n",
    "print(\"VaR(90):\",var_95)\n",
    "print(\"CVaR(90):\", cvar_95)\n",
    "\n",
    "print(\"\")\n",
    "\n",
    "print(\"VaR(99):\",var_99)\n",
    "print(\"CVaR(99):\", cvar_99)"
   ]
  },
  {
   "cell_type": "markdown",
   "id": "a7cceeca",
   "metadata": {},
   "source": [
    "Let's add these values to the histogram!"
   ]
  },
  {
   "cell_type": "code",
   "execution_count": 16,
   "id": "ae45afa1",
   "metadata": {},
   "outputs": [],
   "source": [
    "fig.update_yaxes(range = [0,150])\n",
    "\n",
    "fig.add_trace(go.Scatter(x=(var_90,var_90), y = (0,200), mode = 'lines', line_color='Red', name = \"VaR(90)\"))\n",
    "fig.add_trace(go.Scatter(x=(cvar_90,cvar_90),y = (0,200), line_dash='dash', line_color='Red',name = \"CVaR(90)\"))\n",
    "\n",
    "\n",
    "fig.add_trace(go.Scatter(x=(var_95,var_95), y = (0,200), mode = 'lines', line_color='Green', name = \"VaR(95)\"))\n",
    "fig.add_trace(go.Scatter(x=(cvar_95,cvar_95),y = (0,200), line_dash='dash', line_color='Green',name = \"CVaR(95)\"))\n",
    "\n",
    "fig.add_trace(go.Scatter(x=(var_99,var_99), y = (0,200), mode = 'lines', line_color='Purple', name = \"VaR(99)\"))\n",
    "fig.add_trace(go.Scatter(x=(cvar_99,cvar_99),y = (0,200), line_dash='dash', line_color='Purple',name = \"CVaR(99)\"))\n",
    "\n",
    "fig.write_image(\"Images/Returns_TSLA_Hist_VaR.png\")"
   ]
  },
  {
   "cell_type": "markdown",
   "id": "6576fb80",
   "metadata": {},
   "source": [
    "![title](Images/Returns_TSLA_Hist_VaR.png)"
   ]
  },
  {
   "cell_type": "markdown",
   "id": "d9514dd2",
   "metadata": {},
   "source": [
    "Great, this plot is giving us a lot of information. Let's focus only on VaR(90). The value is telling us that (historically) there is a probability of 90 percent that the losses don't exceed -3.35%. If they do, there is a 90% probabilty the losses don't exceed 5.98%. This is an example of very simple and straight forward risk management. But before we dive into more detail only focusing on the TSLA assest, let's look at our whole portfolio."
   ]
  },
  {
   "cell_type": "markdown",
   "id": "81835b9f",
   "metadata": {},
   "source": [
    "## Best Suited Portfolio Weights - GMV and MSR\n",
    "\n",
    "Let's determine the portfolio weights for the best valued portfolio and the portfolio with the least risk - we can use the efficient frontier to do so! We are going to include all assets in the efficient frontier."
   ]
  },
  {
   "cell_type": "code",
   "execution_count": 109,
   "id": "01099c3b",
   "metadata": {},
   "outputs": [],
   "source": [
    "annualized_asset_returns = (1+asset_returns.mean())**252 - 1\n",
    "annualized_cov = (asset_returns).cov()*252\n",
    "risk_free_rate=0\n",
    "n_portfolios = 2000\n",
    "\n",
    "plot_pairs = []\n",
    "weights_list = []\n",
    "\n",
    "np.random.seed(2)\n",
    "\n",
    "for i in range(n_portfolios):\n",
    "    weights = np.random.rand(5)\n",
    "    weights = weights/sum(weights)\n",
    "    weights_list.append([weights])\n",
    "    portfolio_E_Variance = np.sqrt(np.dot(weights.T, np.dot(annualized_cov, weights)))\n",
    "    portfolio_E_Return = annualized_asset_returns.multiply(weights, axis = 0).sum()\n",
    "    plot_pairs.append([portfolio_E_Return, portfolio_E_Variance])\n",
    "    \n",
    "    \n",
    "plot_pairs = np.array(plot_pairs)\n",
    "sharpe_ratio = np.array((plot_pairs[:,0] - risk_free_rate)/plot_pairs[:,1])\n",
    "fig = go.Figure()\n",
    "fig.add_trace(go.Scatter(x=plot_pairs[:,1], y=plot_pairs[:,0], \n",
    "                         marker = dict(color = sharpe_ratio,showscale=True,\n",
    "                                       colorbar=dict(title=\"Sharpe<br>Ratio\")),mode='markers'))\n",
    "fig.update_layout(title = \"The Efficient Frontier\",title_x = 0.5)\n",
    "fig.update_yaxes(title = \"Annualized Return\")\n",
    "fig.update_xaxes(title = \"Annualized Risk (Volatility)\")\n",
    "fig.write_image(\"Images/The_Efficient_Frontier_New.png\")"
   ]
  },
  {
   "cell_type": "markdown",
   "id": "1173caa3",
   "metadata": {},
   "source": [
    "![title](Images/The_Efficient_Frontier_New.png)"
   ]
  },
  {
   "cell_type": "markdown",
   "id": "20d42ea7",
   "metadata": {},
   "source": [
    "From here we can see the efficient frontier. We can pick a point on the efficient frontier following the basic rule: The higher the return, the higher the risk. The lower the return, the lower the risk. Let's calculate the MSR and GMV."
   ]
  },
  {
   "cell_type": "code",
   "execution_count": 104,
   "id": "6eabcd35",
   "metadata": {},
   "outputs": [
    {
     "data": {
      "text/plain": [
       "[array([0.39209185, 0.14340418, 0.00617222, 0.445952  , 0.01237976])]"
      ]
     },
     "execution_count": 104,
     "metadata": {},
     "output_type": "execute_result"
    }
   ],
   "source": [
    "indx_msr = sharpe_ratio.argsort()[len(sharpe_ratio)-1]\n",
    "weights_list[indx_msr]"
   ]
  },
  {
   "cell_type": "code",
   "execution_count": 106,
   "id": "d7c51e6f",
   "metadata": {},
   "outputs": [
    {
     "name": "stdout",
     "output_type": "stream",
     "text": [
      "[0.43136021 0.25023192]\n"
     ]
    },
    {
     "data": {
      "text/plain": [
       "[array([0.02928756, 0.04248366, 0.01379509, 0.4640012 , 0.45043249])]"
      ]
     },
     "execution_count": 106,
     "metadata": {},
     "output_type": "execute_result"
    }
   ],
   "source": [
    "indx_gmv = plot_pairs[:,1].argsort()[0]\n",
    "print(plot_pairs[indx_gmv])\n",
    "weights_list[indx_gmv]"
   ]
  },
  {
   "cell_type": "code",
   "execution_count": 107,
   "id": "860c8e1c",
   "metadata": {},
   "outputs": [
    {
     "name": "stdout",
     "output_type": "stream",
     "text": [
      "['TSLA', 'GME', 'AMC', 'MSFT', 'GOOG']\n"
     ]
    }
   ],
   "source": [
    "print(tickers)"
   ]
  },
  {
   "cell_type": "markdown",
   "id": "a9bc4ef9",
   "metadata": {},
   "source": [
    "This is giving us some great insight. If we want a great performing portfolio (high sharpe ratio) we would wanna hold mostly MSFT and TSLA with some GME but almost no GOOG and GME. However, this sharpe ratio is historical. This means, just because the historical sharpe ratio is good - the future is not guaranteed to be good. When looking at the GMV, we would mostly hold MSTF and GOOG. This makes sense since the historical growth has been really steady for both stocks - indicating low risk - but also low reward. "
   ]
  },
  {
   "cell_type": "code",
   "execution_count": null,
   "id": "29465eab",
   "metadata": {},
   "outputs": [],
   "source": []
  }
 ],
 "metadata": {
  "kernelspec": {
   "display_name": "Python 3 (ipykernel)",
   "language": "python",
   "name": "python3"
  },
  "language_info": {
   "codemirror_mode": {
    "name": "ipython",
    "version": 3
   },
   "file_extension": ".py",
   "mimetype": "text/x-python",
   "name": "python",
   "nbconvert_exporter": "python",
   "pygments_lexer": "ipython3",
   "version": "3.9.1"
  }
 },
 "nbformat": 4,
 "nbformat_minor": 5
}
